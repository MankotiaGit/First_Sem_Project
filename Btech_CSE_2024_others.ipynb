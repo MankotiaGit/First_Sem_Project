{
  "nbformat": 4,
  "nbformat_minor": 0,
  "metadata": {
    "colab": {
      "provenance": [],
      "include_colab_link": true
    },
    "kernelspec": {
      "name": "python3",
      "display_name": "Python 3"
    },
    "language_info": {
      "name": "python"
    }
  },
  "cells": [
    {
      "cell_type": "markdown",
      "metadata": {
        "id": "view-in-github",
        "colab_type": "text"
      },
      "source": [
        "<a href=\"https://colab.research.google.com/github/MankotiaGit/First_Sem_Project/blob/main/Btech_CSE_2024_others.ipynb\" target=\"_parent\"><img src=\"https://colab.research.google.com/assets/colab-badge.svg\" alt=\"Open In Colab\"/></a>"
      ]
    },
    {
      "cell_type": "code",
      "execution_count": null,
      "metadata": {
        "colab": {
          "base_uri": "https://localhost:8080/",
          "height": 176
        },
        "id": "f_y0NOmqTW5D",
        "outputId": "f25c6dfa-5b1f-4c46-cab9-1a3803b1106e"
      },
      "outputs": [
        {
          "output_type": "error",
          "ename": "TypeError",
          "evalue": "'str' object does not support item assignment",
          "traceback": [
            "\u001b[0;31m---------------------------------------------------------------------------\u001b[0m",
            "\u001b[0;31mTypeError\u001b[0m                                 Traceback (most recent call last)",
            "\u001b[0;32m<ipython-input-1-d7021d3ccdeb>\u001b[0m in \u001b[0;36m<cell line: 3>\u001b[0;34m()\u001b[0m\n\u001b[1;32m      1\u001b[0m \u001b[0;31m#immutability\u001b[0m\u001b[0;34m\u001b[0m\u001b[0;34m\u001b[0m\u001b[0m\n\u001b[1;32m      2\u001b[0m \u001b[0mmy_sub\u001b[0m \u001b[0;34m=\u001b[0m \u001b[0;34m\"Hello\"\u001b[0m\u001b[0;34m\u001b[0m\u001b[0;34m\u001b[0m\u001b[0m\n\u001b[0;32m----> 3\u001b[0;31m \u001b[0mmy_sub\u001b[0m\u001b[0;34m[\u001b[0m\u001b[0;36m0\u001b[0m\u001b[0;34m]\u001b[0m \u001b[0;34m=\u001b[0m \u001b[0;34m\"C\"\u001b[0m\u001b[0;34m\u001b[0m\u001b[0;34m\u001b[0m\u001b[0m\n\u001b[0m",
            "\u001b[0;31mTypeError\u001b[0m: 'str' object does not support item assignment"
          ]
        }
      ],
      "source": [
        "#immutability\n",
        "my_sub = \"Hello\"\n",
        "my_sub[0] = \"C\""
      ]
    },
    {
      "cell_type": "code",
      "source": [
        "#concatenation --addition of string\n",
        "first_name = \"Jai\"\n",
        "last_name = \"Singh\"\n",
        "my_name = first_name +\" \"+ last_name\n",
        "print(my_name)"
      ],
      "metadata": {
        "colab": {
          "base_uri": "https://localhost:8080/"
        },
        "id": "mPkI61psTtHW",
        "outputId": "96c4d9b1-09f6-4f11-f182-367bca906974"
      },
      "execution_count": null,
      "outputs": [
        {
          "output_type": "stream",
          "name": "stdout",
          "text": [
            "Jai Singh\n"
          ]
        }
      ]
    },
    {
      "cell_type": "code",
      "source": [
        "my_city = \"Solan\"\n",
        "len(my_city)"
      ],
      "metadata": {
        "colab": {
          "base_uri": "https://localhost:8080/"
        },
        "id": "lPTH1AgFUGRR",
        "outputId": "48f684fb-ee03-40d0-87b8-31c60b310882"
      },
      "execution_count": null,
      "outputs": [
        {
          "output_type": "execute_result",
          "data": {
            "text/plain": [
              "5"
            ]
          },
          "metadata": {},
          "execution_count": 5
        }
      ]
    },
    {
      "cell_type": "code",
      "source": [
        "my_city.lower()"
      ],
      "metadata": {
        "colab": {
          "base_uri": "https://localhost:8080/",
          "height": 36
        },
        "id": "ylVa9NKlWKUN",
        "outputId": "a31fc7c6-d346-4371-df32-3db7eb61bfbc"
      },
      "execution_count": null,
      "outputs": [
        {
          "output_type": "execute_result",
          "data": {
            "text/plain": [
              "'solan'"
            ],
            "application/vnd.google.colaboratory.intrinsic+json": {
              "type": "string"
            }
          },
          "metadata": {},
          "execution_count": 6
        }
      ]
    },
    {
      "cell_type": "code",
      "source": [
        "my_city.upper()"
      ],
      "metadata": {
        "colab": {
          "base_uri": "https://localhost:8080/",
          "height": 36
        },
        "id": "jI4VwMT2WP5l",
        "outputId": "c0c13ddf-f8c8-4c43-f8e1-ec52c68c8cbe"
      },
      "execution_count": null,
      "outputs": [
        {
          "output_type": "execute_result",
          "data": {
            "text/plain": [
              "'SOLAN'"
            ],
            "application/vnd.google.colaboratory.intrinsic+json": {
              "type": "string"
            }
          },
          "metadata": {},
          "execution_count": 7
        }
      ]
    },
    {
      "cell_type": "code",
      "source": [
        "algorthim = \"Neural Networke\"\n",
        "algorthim.count(\"e\", 2, 14)"
      ],
      "metadata": {
        "colab": {
          "base_uri": "https://localhost:8080/"
        },
        "id": "-KgVWBoGWkNi",
        "outputId": "96d79729-ac10-4059-d295-746a6fb4c2ab"
      },
      "execution_count": null,
      "outputs": [
        {
          "output_type": "execute_result",
          "data": {
            "text/plain": [
              "1"
            ]
          },
          "metadata": {},
          "execution_count": 11
        }
      ]
    },
    {
      "cell_type": "code",
      "source": [
        "#find--this method used to find the index of item\n",
        "algorthim.find(\"e\", 2, 14)"
      ],
      "metadata": {
        "colab": {
          "base_uri": "https://localhost:8080/"
        },
        "id": "qQ_QZI3EWzar",
        "outputId": "1fc30a50-70a3-4f79-8da9-e828ee2ee8ef"
      },
      "execution_count": null,
      "outputs": [
        {
          "output_type": "execute_result",
          "data": {
            "text/plain": [
              "8"
            ]
          },
          "metadata": {},
          "execution_count": 13
        }
      ]
    },
    {
      "cell_type": "code",
      "source": [
        "algorthim.replace(\"N\", \"M\")"
      ],
      "metadata": {
        "colab": {
          "base_uri": "https://localhost:8080/",
          "height": 36
        },
        "id": "Di7CvU3aYSPe",
        "outputId": "b87d63f9-913a-4137-84e7-30600b0f192f"
      },
      "execution_count": null,
      "outputs": [
        {
          "output_type": "execute_result",
          "data": {
            "text/plain": [
              "'Meural Metworke'"
            ],
            "application/vnd.google.colaboratory.intrinsic+json": {
              "type": "string"
            }
          },
          "metadata": {},
          "execution_count": 15
        }
      ]
    },
    {
      "cell_type": "code",
      "source": [
        "my_list = [23, 78, 90, 67, 45]\n",
        "print(my_list)\n",
        "my_list.append(100) #this method used to add item end of the list\n",
        "print(my_list)\n"
      ],
      "metadata": {
        "colab": {
          "base_uri": "https://localhost:8080/"
        },
        "id": "O5jZeFc4SxtV",
        "outputId": "f811a098-1a8d-44b9-b995-f6319809b14e"
      },
      "execution_count": null,
      "outputs": [
        {
          "output_type": "stream",
          "name": "stdout",
          "text": [
            "[23, 78, 90, 67, 45]\n",
            "[23, 78, 90, 67, 45, 100]\n"
          ]
        }
      ]
    },
    {
      "cell_type": "code",
      "source": [
        "my_list"
      ],
      "metadata": {
        "colab": {
          "base_uri": "https://localhost:8080/"
        },
        "id": "ylMPrXk6UK2y",
        "outputId": "c4495fcc-27f9-4a13-9fa5-658357e8ce87"
      },
      "execution_count": null,
      "outputs": [
        {
          "output_type": "execute_result",
          "data": {
            "text/plain": [
              "[23, 78, 90, 67, 45, 100]"
            ]
          },
          "metadata": {},
          "execution_count": 3
        }
      ]
    },
    {
      "cell_type": "code",
      "source": [
        "list1 = [45, 87, 90]\n",
        "my_list.extend(list1) #merge the two list\n",
        "print(my_list)"
      ],
      "metadata": {
        "colab": {
          "base_uri": "https://localhost:8080/"
        },
        "id": "nRtkGc3rUnug",
        "outputId": "c56839d4-841c-46ad-92cc-c09daaa70072"
      },
      "execution_count": null,
      "outputs": [
        {
          "output_type": "stream",
          "name": "stdout",
          "text": [
            "[23, 78, 90, 67, 45, 100, 45, 87, 90]\n"
          ]
        }
      ]
    },
    {
      "cell_type": "code",
      "source": [
        "#pop() --remove the item from the list with help of index\n",
        "my_list"
      ],
      "metadata": {
        "colab": {
          "base_uri": "https://localhost:8080/"
        },
        "id": "sarttlnBUy9g",
        "outputId": "9c5fdf02-4da3-4090-cd1e-71affca4740c"
      },
      "execution_count": null,
      "outputs": [
        {
          "output_type": "execute_result",
          "data": {
            "text/plain": [
              "[23, 78, 90, 67, 45, 100, 45, 87, 90]"
            ]
          },
          "metadata": {},
          "execution_count": 5
        }
      ]
    },
    {
      "cell_type": "code",
      "source": [
        "my_list.pop()"
      ],
      "metadata": {
        "colab": {
          "base_uri": "https://localhost:8080/"
        },
        "id": "8smxwSOpVQkl",
        "outputId": "599d33fa-7b34-4720-f9dd-dc2da96827a0"
      },
      "execution_count": null,
      "outputs": [
        {
          "output_type": "execute_result",
          "data": {
            "text/plain": [
              "90"
            ]
          },
          "metadata": {},
          "execution_count": 6
        }
      ]
    },
    {
      "cell_type": "code",
      "source": [
        "my_list.pop(1)"
      ],
      "metadata": {
        "colab": {
          "base_uri": "https://localhost:8080/"
        },
        "id": "uapav8YhVXBv",
        "outputId": "267c8aff-7a00-4197-882c-bdcb05bbcfdc"
      },
      "execution_count": null,
      "outputs": [
        {
          "output_type": "execute_result",
          "data": {
            "text/plain": [
              "78"
            ]
          },
          "metadata": {},
          "execution_count": 8
        }
      ]
    },
    {
      "cell_type": "code",
      "source": [
        "print(my_list)"
      ],
      "metadata": {
        "colab": {
          "base_uri": "https://localhost:8080/"
        },
        "id": "zecaXvSMVb2b",
        "outputId": "65418d56-c8a2-46de-f4e2-ff89f8a82859"
      },
      "execution_count": null,
      "outputs": [
        {
          "output_type": "stream",
          "name": "stdout",
          "text": [
            "[23, 90, 67, 45, 100, 45, 87]\n"
          ]
        }
      ]
    },
    {
      "cell_type": "code",
      "source": [
        "my_list.remove(45) #this method remove the item from the list, item take as a argument"
      ],
      "metadata": {
        "id": "X8R14zTVVjb0"
      },
      "execution_count": null,
      "outputs": []
    },
    {
      "cell_type": "code",
      "source": [
        "print(my_list)"
      ],
      "metadata": {
        "colab": {
          "base_uri": "https://localhost:8080/"
        },
        "id": "DMNrw0m5WIRW",
        "outputId": "d933be89-e8f1-45c9-99f8-3c5ba5e75fab"
      },
      "execution_count": null,
      "outputs": [
        {
          "output_type": "stream",
          "name": "stdout",
          "text": [
            "[23, 90, 67, 100, 45, 87]\n"
          ]
        }
      ]
    },
    {
      "cell_type": "code",
      "source": [
        "my_list.remove(23)"
      ],
      "metadata": {
        "id": "d3UFMrGSWKtS"
      },
      "execution_count": null,
      "outputs": []
    },
    {
      "cell_type": "code",
      "source": [
        "my_list"
      ],
      "metadata": {
        "colab": {
          "base_uri": "https://localhost:8080/"
        },
        "id": "VVKPWbp_WlK0",
        "outputId": "15ce5a4f-e014-44b3-c16b-e6813d7cd9c7"
      },
      "execution_count": null,
      "outputs": [
        {
          "output_type": "execute_result",
          "data": {
            "text/plain": [
              "[90, 67, 100, 45, 87]"
            ]
          },
          "metadata": {},
          "execution_count": 13
        }
      ]
    },
    {
      "cell_type": "code",
      "source": [
        "my_list.index(90)"
      ],
      "metadata": {
        "colab": {
          "base_uri": "https://localhost:8080/"
        },
        "id": "RrVahMuwWmcb",
        "outputId": "e518148c-704f-48ae-bdc9-b53bdbcf3986"
      },
      "execution_count": null,
      "outputs": [
        {
          "output_type": "execute_result",
          "data": {
            "text/plain": [
              "0"
            ]
          },
          "metadata": {},
          "execution_count": 14
        }
      ]
    },
    {
      "cell_type": "code",
      "source": [
        "my_list = [1, 4, 8, 9, 4, 5, 6, 3]\n",
        "sorted(my_list, reverse = True) #arrange your list in increasing or decreasing order"
      ],
      "metadata": {
        "colab": {
          "base_uri": "https://localhost:8080/"
        },
        "id": "iA2W6PAsW0MU",
        "outputId": "1933002c-369b-400c-99a8-cf4893569f21"
      },
      "execution_count": null,
      "outputs": [
        {
          "output_type": "execute_result",
          "data": {
            "text/plain": [
              "[9, 8, 6, 5, 4, 4, 3, 1]"
            ]
          },
          "metadata": {},
          "execution_count": 16
        }
      ]
    },
    {
      "cell_type": "code",
      "source": [
        "print(my_list)"
      ],
      "metadata": {
        "colab": {
          "base_uri": "https://localhost:8080/"
        },
        "id": "DZNgxgQxXRLv",
        "outputId": "f2aacae3-ea90-41f0-d41d-ed2e92ae5f1a"
      },
      "execution_count": null,
      "outputs": [
        {
          "output_type": "stream",
          "name": "stdout",
          "text": [
            "[1, 4, 8, 9, 4, 5, 6, 3]\n"
          ]
        }
      ]
    },
    {
      "cell_type": "code",
      "source": [
        "my_list.sort(reverse = True)\n",
        "print(my_list)"
      ],
      "metadata": {
        "colab": {
          "base_uri": "https://localhost:8080/"
        },
        "id": "lJRVW5UjXlj3",
        "outputId": "7b79e768-3f95-4285-972f-a7f721c3445d"
      },
      "execution_count": null,
      "outputs": [
        {
          "output_type": "stream",
          "name": "stdout",
          "text": [
            "[9, 8, 6, 5, 4, 4, 3, 1]\n"
          ]
        }
      ]
    },
    {
      "cell_type": "code",
      "source": [
        "my_tuple = (2, 4, 8, 9)\n",
        "type(my_tuple)"
      ],
      "metadata": {
        "colab": {
          "base_uri": "https://localhost:8080/"
        },
        "id": "-3HiC_rWXwQJ",
        "outputId": "6633d3b2-58ac-44dc-b291-1d71529138ae"
      },
      "execution_count": null,
      "outputs": [
        {
          "output_type": "execute_result",
          "data": {
            "text/plain": [
              "tuple"
            ]
          },
          "metadata": {},
          "execution_count": 21
        }
      ]
    },
    {
      "cell_type": "code",
      "source": [
        "x = 1, 2, 3\n",
        "type(x)"
      ],
      "metadata": {
        "colab": {
          "base_uri": "https://localhost:8080/"
        },
        "id": "qdE0-ohXYr0S",
        "outputId": "a54b721a-81db-4b02-c28c-d55bd6b4784a"
      },
      "execution_count": null,
      "outputs": [
        {
          "output_type": "execute_result",
          "data": {
            "text/plain": [
              "tuple"
            ]
          },
          "metadata": {},
          "execution_count": 22
        }
      ]
    },
    {
      "cell_type": "code",
      "source": [
        "y = ()\n",
        "type(y)"
      ],
      "metadata": {
        "colab": {
          "base_uri": "https://localhost:8080/"
        },
        "id": "nsW-VXPJYzlx",
        "outputId": "0b9d4134-3594-4108-843a-a8f56233fbf5"
      },
      "execution_count": null,
      "outputs": [
        {
          "output_type": "execute_result",
          "data": {
            "text/plain": [
              "tuple"
            ]
          },
          "metadata": {},
          "execution_count": 23
        }
      ]
    },
    {
      "cell_type": "code",
      "source": [
        "z = (2)\n",
        "type(z)"
      ],
      "metadata": {
        "colab": {
          "base_uri": "https://localhost:8080/"
        },
        "id": "0KlOuS0GY3zK",
        "outputId": "37c97484-9d4f-4f8d-b765-a2c777303fd7"
      },
      "execution_count": null,
      "outputs": [
        {
          "output_type": "execute_result",
          "data": {
            "text/plain": [
              "int"
            ]
          },
          "metadata": {},
          "execution_count": 24
        }
      ]
    },
    {
      "cell_type": "code",
      "source": [
        "a = (2,)\n",
        "type(a)"
      ],
      "metadata": {
        "colab": {
          "base_uri": "https://localhost:8080/"
        },
        "id": "ROwNj_hCZBj-",
        "outputId": "24fac99b-ebd8-462c-c01a-31a6daa48387"
      },
      "execution_count": null,
      "outputs": [
        {
          "output_type": "execute_result",
          "data": {
            "text/plain": [
              "tuple"
            ]
          },
          "metadata": {},
          "execution_count": 25
        }
      ]
    },
    {
      "cell_type": "code",
      "source": [
        "my_tuple = (\"jagat\", 3.24, 8, True, None)\n",
        "type(my_tuple)"
      ],
      "metadata": {
        "colab": {
          "base_uri": "https://localhost:8080/"
        },
        "id": "uIf8gzMzZinf",
        "outputId": "fc7a90e0-ab1c-4d94-d1af-b2cedef19496"
      },
      "execution_count": null,
      "outputs": [
        {
          "output_type": "execute_result",
          "data": {
            "text/plain": [
              "tuple"
            ]
          },
          "metadata": {},
          "execution_count": 26
        }
      ]
    },
    {
      "cell_type": "code",
      "source": [
        "len(my_tuple)"
      ],
      "metadata": {
        "colab": {
          "base_uri": "https://localhost:8080/"
        },
        "id": "zEbQBTBBZtdY",
        "outputId": "8872704d-d73d-471a-88c2-7fc0d79bf0b4"
      },
      "execution_count": null,
      "outputs": [
        {
          "output_type": "execute_result",
          "data": {
            "text/plain": [
              "5"
            ]
          },
          "metadata": {},
          "execution_count": 27
        }
      ]
    },
    {
      "cell_type": "code",
      "source": [
        "#immutable --- data structure not change after construct\n",
        "my_tuple[0] = 100\n",
        "my_tuple"
      ],
      "metadata": {
        "colab": {
          "base_uri": "https://localhost:8080/",
          "height": 159
        },
        "id": "-rCJ1YALZ8NC",
        "outputId": "55486566-f85a-4bfd-d268-4fd22f08a8a9"
      },
      "execution_count": null,
      "outputs": [
        {
          "output_type": "error",
          "ename": "TypeError",
          "evalue": "'tuple' object does not support item assignment",
          "traceback": [
            "\u001b[0;31m---------------------------------------------------------------------------\u001b[0m",
            "\u001b[0;31mTypeError\u001b[0m                                 Traceback (most recent call last)",
            "\u001b[0;32m<ipython-input-28-a8a9829cdcc1>\u001b[0m in \u001b[0;36m<cell line: 1>\u001b[0;34m()\u001b[0m\n\u001b[0;32m----> 1\u001b[0;31m \u001b[0mmy_tuple\u001b[0m\u001b[0;34m[\u001b[0m\u001b[0;36m0\u001b[0m\u001b[0;34m]\u001b[0m \u001b[0;34m=\u001b[0m \u001b[0;36m100\u001b[0m\u001b[0;34m\u001b[0m\u001b[0;34m\u001b[0m\u001b[0m\n\u001b[0m\u001b[1;32m      2\u001b[0m \u001b[0mmy_tuple\u001b[0m\u001b[0;34m\u001b[0m\u001b[0;34m\u001b[0m\u001b[0m\n",
            "\u001b[0;31mTypeError\u001b[0m: 'tuple' object does not support item assignment"
          ]
        }
      ]
    },
    {
      "cell_type": "code",
      "source": [
        "state_list = [\"HP\", \"UP\", \"HAR\", \"PUN\", \"TN\"]\n",
        "city_list = [\"SHM\", \"LK\", \"GRU\", \"MOH\", \"CHN\"]\n",
        "x = zip(state_list, city_list)\n",
        "x"
      ],
      "metadata": {
        "colab": {
          "base_uri": "https://localhost:8080/"
        },
        "id": "6Zq8bR5KaFj0",
        "outputId": "0cf25a7a-6854-4f78-cef5-be76ca0337b0"
      },
      "execution_count": null,
      "outputs": [
        {
          "output_type": "execute_result",
          "data": {
            "text/plain": [
              "<zip at 0x7f3aefefb740>"
            ]
          },
          "metadata": {},
          "execution_count": 29
        }
      ]
    },
    {
      "cell_type": "code",
      "source": [
        "dict(x)"
      ],
      "metadata": {
        "colab": {
          "base_uri": "https://localhost:8080/"
        },
        "id": "OVw5RKgBa_rf",
        "outputId": "ddad6e34-c824-4340-afcd-b399f7210a3f"
      },
      "execution_count": null,
      "outputs": [
        {
          "output_type": "execute_result",
          "data": {
            "text/plain": [
              "{'HP': 'SHM', 'UP': 'LK', 'HAR': 'GRU', 'PUN': 'MOH', 'TN': 'CHN'}"
            ]
          },
          "metadata": {},
          "execution_count": 30
        }
      ]
    },
    {
      "cell_type": "code",
      "source": [
        "my_tuple = (6, 5, 7, 6, 8)\n",
        "my_tuple.count(6) # count the number of perticular item"
      ],
      "metadata": {
        "colab": {
          "base_uri": "https://localhost:8080/"
        },
        "id": "FQ-KJgF5bG6T",
        "outputId": "69657168-2ec3-4f77-9c17-60efaf3dc2ea"
      },
      "execution_count": null,
      "outputs": [
        {
          "output_type": "execute_result",
          "data": {
            "text/plain": [
              "2"
            ]
          },
          "metadata": {},
          "execution_count": 34
        }
      ]
    },
    {
      "cell_type": "code",
      "source": [
        "my_tuple.index(6) #find the index of first accurance\n"
      ],
      "metadata": {
        "colab": {
          "base_uri": "https://localhost:8080/"
        },
        "id": "kgHR-poScm97",
        "outputId": "26379252-9683-4bc4-ba0c-7d06d4f7a222"
      },
      "execution_count": null,
      "outputs": [
        {
          "output_type": "execute_result",
          "data": {
            "text/plain": [
              "0"
            ]
          },
          "metadata": {},
          "execution_count": 33
        }
      ]
    },
    {
      "cell_type": "code",
      "source": [
        "#set -- collection of unique number of item\n",
        "x = \" \"\n",
        "type(x)"
      ],
      "metadata": {
        "colab": {
          "base_uri": "https://localhost:8080/"
        },
        "id": "DmTXL-xrct0A",
        "outputId": "6abd30bb-3cd3-4d73-890f-be1456e03e78"
      },
      "execution_count": null,
      "outputs": [
        {
          "output_type": "execute_result",
          "data": {
            "text/plain": [
              "str"
            ]
          },
          "metadata": {},
          "execution_count": 35
        }
      ]
    },
    {
      "cell_type": "code",
      "source": [
        "y = []\n",
        "type(y)"
      ],
      "metadata": {
        "colab": {
          "base_uri": "https://localhost:8080/"
        },
        "id": "PJx3xxeQdTuC",
        "outputId": "42bc1731-8ce5-4e20-8c6c-78a393fda84c"
      },
      "execution_count": null,
      "outputs": [
        {
          "output_type": "execute_result",
          "data": {
            "text/plain": [
              "list"
            ]
          },
          "metadata": {},
          "execution_count": 36
        }
      ]
    },
    {
      "cell_type": "code",
      "source": [
        "z = ()\n",
        "type(z)"
      ],
      "metadata": {
        "colab": {
          "base_uri": "https://localhost:8080/"
        },
        "id": "BrOcqiLMdaZt",
        "outputId": "2e9489c6-5c4c-4a8b-e399-23fe07736a00"
      },
      "execution_count": null,
      "outputs": [
        {
          "output_type": "execute_result",
          "data": {
            "text/plain": [
              "tuple"
            ]
          },
          "metadata": {},
          "execution_count": 37
        }
      ]
    },
    {
      "cell_type": "code",
      "source": [
        "my_set = {3, 6, 7, 8}\n",
        "type(my_set)"
      ],
      "metadata": {
        "colab": {
          "base_uri": "https://localhost:8080/"
        },
        "id": "t8HaCJQsddvf",
        "outputId": "c9b12ddb-e6cc-42c4-993c-5f470fb66ed4"
      },
      "execution_count": null,
      "outputs": [
        {
          "output_type": "execute_result",
          "data": {
            "text/plain": [
              "set"
            ]
          },
          "metadata": {},
          "execution_count": 38
        }
      ]
    },
    {
      "cell_type": "code",
      "source": [
        "a = {}\n",
        "type(a)"
      ],
      "metadata": {
        "colab": {
          "base_uri": "https://localhost:8080/"
        },
        "id": "y1lPg61XdpeV",
        "outputId": "fc2f43d1-aeb9-4478-d23c-dd3508a17a0e"
      },
      "execution_count": null,
      "outputs": [
        {
          "output_type": "execute_result",
          "data": {
            "text/plain": [
              "dict"
            ]
          },
          "metadata": {},
          "execution_count": 39
        }
      ]
    },
    {
      "cell_type": "code",
      "source": [
        "empty_set = set()\n",
        "type(empty_set)"
      ],
      "metadata": {
        "colab": {
          "base_uri": "https://localhost:8080/"
        },
        "id": "ZNb_5kxRdu1j",
        "outputId": "7001e3e0-0223-464d-b579-71cee5276d26"
      },
      "execution_count": null,
      "outputs": [
        {
          "output_type": "execute_result",
          "data": {
            "text/plain": [
              "set"
            ]
          },
          "metadata": {},
          "execution_count": 40
        }
      ]
    },
    {
      "cell_type": "code",
      "source": [
        "my_set = {4, 8, 9, 6, 3, 2}\n",
        "print(my_set)"
      ],
      "metadata": {
        "colab": {
          "base_uri": "https://localhost:8080/"
        },
        "id": "sZ4UpOwveBs8",
        "outputId": "c4e95fcd-9866-47b8-92d6-1c35da0d1e81"
      },
      "execution_count": null,
      "outputs": [
        {
          "output_type": "stream",
          "name": "stdout",
          "text": [
            "{2, 3, 4, 6, 8, 9}\n"
          ]
        }
      ]
    },
    {
      "cell_type": "code",
      "source": [
        "a = set()"
      ],
      "metadata": {
        "id": "ywOSkS3Rexbj"
      },
      "execution_count": null,
      "outputs": []
    },
    {
      "cell_type": "code",
      "source": [
        "a.add(10)\n",
        "a"
      ],
      "metadata": {
        "colab": {
          "base_uri": "https://localhost:8080/"
        },
        "id": "ht1sYkrpfBHp",
        "outputId": "12a632c0-7f3b-49cc-9292-b58cb55ff6d8"
      },
      "execution_count": null,
      "outputs": [
        {
          "output_type": "execute_result",
          "data": {
            "text/plain": [
              "{10}"
            ]
          },
          "metadata": {},
          "execution_count": 43
        }
      ]
    },
    {
      "cell_type": "code",
      "source": [
        "a.add(20)\n",
        "a"
      ],
      "metadata": {
        "colab": {
          "base_uri": "https://localhost:8080/"
        },
        "id": "PubTLwopfDnx",
        "outputId": "d7434e52-de18-477c-fbad-00b03f72aee5"
      },
      "execution_count": null,
      "outputs": [
        {
          "output_type": "execute_result",
          "data": {
            "text/plain": [
              "{10, 20}"
            ]
          },
          "metadata": {},
          "execution_count": 44
        }
      ]
    },
    {
      "cell_type": "code",
      "source": [
        "a.add(20)\n",
        "a"
      ],
      "metadata": {
        "colab": {
          "base_uri": "https://localhost:8080/"
        },
        "id": "z4TRr_TlfHHZ",
        "outputId": "b0d8282c-aea6-40ab-be53-adb8826a2a52"
      },
      "execution_count": null,
      "outputs": [
        {
          "output_type": "execute_result",
          "data": {
            "text/plain": [
              "{10, 20}"
            ]
          },
          "metadata": {},
          "execution_count": 45
        }
      ]
    },
    {
      "cell_type": "code",
      "source": [
        "my_set = {34, 67, 89}\n",
        "my_set.update([10, 67, 89])\n",
        "print(my_set)"
      ],
      "metadata": {
        "id": "yP-K1DfVfMCS",
        "colab": {
          "base_uri": "https://localhost:8080/"
        },
        "outputId": "de3fefda-1e2a-4dbf-9857-09b3e3478a69"
      },
      "execution_count": null,
      "outputs": [
        {
          "output_type": "stream",
          "name": "stdout",
          "text": [
            "{10, 89, 34, 67}\n"
          ]
        }
      ]
    },
    {
      "cell_type": "code",
      "source": [
        "my_set"
      ],
      "metadata": {
        "colab": {
          "base_uri": "https://localhost:8080/"
        },
        "id": "tgI62LYvDtSt",
        "outputId": "b392779a-e76b-44a3-9fcd-1e83c0ddf38f"
      },
      "execution_count": null,
      "outputs": [
        {
          "output_type": "execute_result",
          "data": {
            "text/plain": [
              "{10, 34, 67, 89}"
            ]
          },
          "metadata": {},
          "execution_count": 2
        }
      ]
    },
    {
      "cell_type": "code",
      "source": [
        "my_set.remove(34)"
      ],
      "metadata": {
        "id": "1ccz6SuEEA9k"
      },
      "execution_count": null,
      "outputs": []
    },
    {
      "cell_type": "code",
      "source": [
        "my_set"
      ],
      "metadata": {
        "colab": {
          "base_uri": "https://localhost:8080/"
        },
        "id": "Fp8bksK1EEYP",
        "outputId": "56e20029-7bfe-45f3-a12b-c6f64ab6126a"
      },
      "execution_count": null,
      "outputs": [
        {
          "output_type": "execute_result",
          "data": {
            "text/plain": [
              "{10, 67, 89}"
            ]
          },
          "metadata": {},
          "execution_count": 4
        }
      ]
    },
    {
      "cell_type": "code",
      "source": [
        "#union---\n",
        "A = {1, 2,3, 4, 5}\n",
        "B= {4, 5, 6, 7, 8}\n",
        "A.union(B)"
      ],
      "metadata": {
        "colab": {
          "base_uri": "https://localhost:8080/"
        },
        "id": "rPUgBmBwEF4q",
        "outputId": "904f9d23-4e22-42fd-c71f-255be205ad51"
      },
      "execution_count": null,
      "outputs": [
        {
          "output_type": "execute_result",
          "data": {
            "text/plain": [
              "{1, 2, 3, 4, 5, 6, 7, 8}"
            ]
          },
          "metadata": {},
          "execution_count": 5
        }
      ]
    },
    {
      "cell_type": "code",
      "source": [
        "A.intersection(B)"
      ],
      "metadata": {
        "colab": {
          "base_uri": "https://localhost:8080/"
        },
        "id": "GHzZY2AsEu2V",
        "outputId": "5026e0f2-8a7e-4386-9464-243ded8d08a3"
      },
      "execution_count": null,
      "outputs": [
        {
          "output_type": "execute_result",
          "data": {
            "text/plain": [
              "{4, 5}"
            ]
          },
          "metadata": {},
          "execution_count": 6
        }
      ]
    },
    {
      "cell_type": "code",
      "source": [
        "A.difference(B)"
      ],
      "metadata": {
        "colab": {
          "base_uri": "https://localhost:8080/"
        },
        "id": "ZvzkawUZE1Bq",
        "outputId": "e6870d36-05a1-47a5-eede-8872319a9ee3"
      },
      "execution_count": null,
      "outputs": [
        {
          "output_type": "execute_result",
          "data": {
            "text/plain": [
              "{1, 2, 3}"
            ]
          },
          "metadata": {},
          "execution_count": 7
        }
      ]
    },
    {
      "cell_type": "code",
      "source": [
        "A-B"
      ],
      "metadata": {
        "colab": {
          "base_uri": "https://localhost:8080/"
        },
        "id": "BD6_1fAlE_vk",
        "outputId": "d8f0c339-cc0e-4cbc-b792-df3d100132bb"
      },
      "execution_count": null,
      "outputs": [
        {
          "output_type": "execute_result",
          "data": {
            "text/plain": [
              "{1, 2, 3}"
            ]
          },
          "metadata": {},
          "execution_count": 8
        }
      ]
    },
    {
      "cell_type": "code",
      "source": [
        "B-A"
      ],
      "metadata": {
        "colab": {
          "base_uri": "https://localhost:8080/"
        },
        "id": "ieK_37CJFAxs",
        "outputId": "07f50c58-a594-42c6-8264-42210786feaf"
      },
      "execution_count": null,
      "outputs": [
        {
          "output_type": "execute_result",
          "data": {
            "text/plain": [
              "{6, 7, 8}"
            ]
          },
          "metadata": {},
          "execution_count": 9
        }
      ]
    },
    {
      "cell_type": "code",
      "source": [
        "A.symmetric_difference(B)"
      ],
      "metadata": {
        "colab": {
          "base_uri": "https://localhost:8080/"
        },
        "id": "raZn-mkxFDDS",
        "outputId": "a187c554-9e7d-4b3f-cd69-401321b4e5a1"
      },
      "execution_count": null,
      "outputs": [
        {
          "output_type": "execute_result",
          "data": {
            "text/plain": [
              "{1, 2, 3, 6, 7, 8}"
            ]
          },
          "metadata": {},
          "execution_count": 10
        }
      ]
    },
    {
      "cell_type": "code",
      "source": [
        "my_dict = {\"HP\":\"SHM\", \"UP\":\"LK\", \"TN\":\"CHN\"}\n",
        "type(my_dict)\n"
      ],
      "metadata": {
        "colab": {
          "base_uri": "https://localhost:8080/"
        },
        "id": "XRGcU60hFQRv",
        "outputId": "2a5cc271-8020-42ea-9d46-bb26bfbc8a0b"
      },
      "execution_count": null,
      "outputs": [
        {
          "output_type": "execute_result",
          "data": {
            "text/plain": [
              "dict"
            ]
          },
          "metadata": {},
          "execution_count": 11
        }
      ]
    },
    {
      "cell_type": "code",
      "source": [
        "print(my_dict)"
      ],
      "metadata": {
        "colab": {
          "base_uri": "https://localhost:8080/"
        },
        "id": "ZMzxlnroGngR",
        "outputId": "f10326a2-0af7-4a49-eecf-b9b0943c112f"
      },
      "execution_count": null,
      "outputs": [
        {
          "output_type": "stream",
          "name": "stdout",
          "text": [
            "{'HP': 'SHM', 'UP': 'LK', 'TN': 'CHN'}\n"
          ]
        }
      ]
    },
    {
      "cell_type": "code",
      "source": [
        "len(my_dict)"
      ],
      "metadata": {
        "colab": {
          "base_uri": "https://localhost:8080/"
        },
        "id": "Kz7ub-UTGpOG",
        "outputId": "20b3ceb6-646c-43e1-aaef-caa12a4ffb14"
      },
      "execution_count": null,
      "outputs": [
        {
          "output_type": "execute_result",
          "data": {
            "text/plain": [
              "3"
            ]
          },
          "metadata": {},
          "execution_count": 13
        }
      ]
    },
    {
      "cell_type": "code",
      "source": [
        "my_dict[\"HP\"]"
      ],
      "metadata": {
        "colab": {
          "base_uri": "https://localhost:8080/",
          "height": 35
        },
        "id": "MMQy8i2tG2O-",
        "outputId": "abee522a-80ba-4c1c-c752-65db2076dbdb"
      },
      "execution_count": null,
      "outputs": [
        {
          "output_type": "execute_result",
          "data": {
            "text/plain": [
              "'SHM'"
            ],
            "application/vnd.google.colaboratory.intrinsic+json": {
              "type": "string"
            }
          },
          "metadata": {},
          "execution_count": 15
        }
      ]
    },
    {
      "cell_type": "code",
      "source": [
        "#keys() -- this method return the keys of dictionary\n",
        "list(my_dict.keys())"
      ],
      "metadata": {
        "colab": {
          "base_uri": "https://localhost:8080/"
        },
        "id": "BTgKZE4YHJU_",
        "outputId": "4fa51e47-a552-4438-fc6d-5bfd4bcaee1f"
      },
      "execution_count": null,
      "outputs": [
        {
          "output_type": "execute_result",
          "data": {
            "text/plain": [
              "['HP', 'UP', 'TN']"
            ]
          },
          "metadata": {},
          "execution_count": 17
        }
      ]
    },
    {
      "cell_type": "code",
      "source": [
        "#values()-- this method return values of your dictionary\n",
        "list(my_dict.values())"
      ],
      "metadata": {
        "colab": {
          "base_uri": "https://localhost:8080/"
        },
        "id": "Ew1tlRxTHVrF",
        "outputId": "22f19735-8834-4227-a722-d8ddbf4fb332"
      },
      "execution_count": null,
      "outputs": [
        {
          "output_type": "execute_result",
          "data": {
            "text/plain": [
              "['SHM', 'LK', 'CHN']"
            ]
          },
          "metadata": {},
          "execution_count": 19
        }
      ]
    },
    {
      "cell_type": "code",
      "source": [
        "#items() -- this method return items of your dictionary\n",
        "list(my_dict.items())"
      ],
      "metadata": {
        "colab": {
          "base_uri": "https://localhost:8080/"
        },
        "id": "xyyXr-KxHlEJ",
        "outputId": "71f15651-2e8a-42aa-c472-967086017df5"
      },
      "execution_count": null,
      "outputs": [
        {
          "output_type": "execute_result",
          "data": {
            "text/plain": [
              "[('HP', 'SHM'), ('UP', 'LK'), ('TN', 'CHN')]"
            ]
          },
          "metadata": {},
          "execution_count": 21
        }
      ]
    },
    {
      "cell_type": "code",
      "source": [
        "my_dict = {\"Name\":\"Aman\", \"Marks_list\":[45, 89, 67, 68]}\n",
        "type(my_dict)"
      ],
      "metadata": {
        "colab": {
          "base_uri": "https://localhost:8080/"
        },
        "id": "HTyrKfgbH3IL",
        "outputId": "993cc41c-5714-4b00-f6a0-f3b9010c4ccc"
      },
      "execution_count": null,
      "outputs": [
        {
          "output_type": "execute_result",
          "data": {
            "text/plain": [
              "dict"
            ]
          },
          "metadata": {},
          "execution_count": 22
        }
      ]
    },
    {
      "cell_type": "code",
      "source": [
        "my_dict.update({\"college\":\"Shoolini\"})\n",
        "print(my_dict)"
      ],
      "metadata": {
        "colab": {
          "base_uri": "https://localhost:8080/"
        },
        "id": "tjV-m41GIpml",
        "outputId": "6c19e390-e4b3-4334-ab59-a616326c36f0"
      },
      "execution_count": null,
      "outputs": [
        {
          "output_type": "stream",
          "name": "stdout",
          "text": [
            "{'Name': 'Aman', 'Marks_list': [45, 89, 67, 68], 'college': 'Shoolini'}\n"
          ]
        }
      ]
    },
    {
      "cell_type": "code",
      "source": [
        "my_dict.update({\"Name\":\"Jai\"})\n",
        "print(my_dict)"
      ],
      "metadata": {
        "colab": {
          "base_uri": "https://localhost:8080/"
        },
        "id": "Ah6TlpoHI4BW",
        "outputId": "8326c4e2-6200-4141-fcca-f7406be9bf3a"
      },
      "execution_count": null,
      "outputs": [
        {
          "output_type": "stream",
          "name": "stdout",
          "text": [
            "{'Name': 'Jai', 'Marks_list': [45, 89, 67, 68], 'college': 'Shoolini'}\n"
          ]
        }
      ]
    },
    {
      "cell_type": "code",
      "source": [
        "age = int(input(\"Enter your age: \"))\n",
        "if age <= 21:\n",
        "  print(\"You are too young for marriage\")\n",
        "elif age >= 60:\n",
        "  print(\"You are too old for marriage\")\n",
        "else:\n",
        "  print(\"we will find perfact match for you\")"
      ],
      "metadata": {
        "colab": {
          "base_uri": "https://localhost:8080/"
        },
        "id": "YDNe6R0DJFeO",
        "outputId": "f2625cf5-f8b5-4f59-f67d-a329276c4996"
      },
      "execution_count": null,
      "outputs": [
        {
          "output_type": "stream",
          "name": "stdout",
          "text": [
            "Enter your age: 21\n",
            "You are too young for marriage\n"
          ]
        }
      ]
    },
    {
      "cell_type": "code",
      "source": [
        "#for loop - this loop apply on sequence(string, list, tuple and range())\n",
        "my_sub = \"Solan\"\n",
        "for i in my_sub:\n",
        "  print(i)"
      ],
      "metadata": {
        "id": "umpbIfq6Ko9H",
        "colab": {
          "base_uri": "https://localhost:8080/"
        },
        "outputId": "eb8c3828-6743-4fb3-94cb-986e998e6aa9"
      },
      "execution_count": null,
      "outputs": [
        {
          "output_type": "stream",
          "name": "stdout",
          "text": [
            "S\n",
            "o\n",
            "l\n",
            "a\n",
            "n\n"
          ]
        }
      ]
    },
    {
      "cell_type": "code",
      "source": [
        "for i in range(0, 5, 1):\n",
        "  print(i)"
      ],
      "metadata": {
        "colab": {
          "base_uri": "https://localhost:8080/"
        },
        "id": "bs4JAF2y4oQW",
        "outputId": "cac8a5f6-1233-4ed4-a886-6b2ce8e0598f"
      },
      "execution_count": null,
      "outputs": [
        {
          "output_type": "stream",
          "name": "stdout",
          "text": [
            "0\n",
            "1\n",
            "2\n",
            "3\n",
            "4\n"
          ]
        }
      ]
    },
    {
      "cell_type": "code",
      "source": [
        "for i in range(0, 5):\n",
        "  print(i)"
      ],
      "metadata": {
        "colab": {
          "base_uri": "https://localhost:8080/"
        },
        "id": "nhoRJW7o5xjl",
        "outputId": "93584654-1a50-40e3-d4e7-fa7435094063"
      },
      "execution_count": null,
      "outputs": [
        {
          "output_type": "stream",
          "name": "stdout",
          "text": [
            "0\n",
            "1\n",
            "2\n",
            "3\n",
            "4\n"
          ]
        }
      ]
    },
    {
      "cell_type": "code",
      "source": [
        "for i in range(5):\n",
        "  print(i)"
      ],
      "metadata": {
        "colab": {
          "base_uri": "https://localhost:8080/"
        },
        "id": "A2PQRgjH51F5",
        "outputId": "a6754d7e-e0fb-4de8-bb6d-64b3da50891c"
      },
      "execution_count": null,
      "outputs": [
        {
          "output_type": "stream",
          "name": "stdout",
          "text": [
            "0\n",
            "1\n",
            "2\n",
            "3\n",
            "4\n"
          ]
        }
      ]
    },
    {
      "cell_type": "code",
      "source": [
        "#indexing\n",
        "my_sub = \"Machine learning\"\n",
        "for i in range(len(my_sub)):\n",
        "  print(my_sub[i], i)"
      ],
      "metadata": {
        "colab": {
          "base_uri": "https://localhost:8080/"
        },
        "id": "Xxu0-Zse57Q-",
        "outputId": "9d74dcd9-3ae2-4794-bbcb-e61f967a03cd"
      },
      "execution_count": null,
      "outputs": [
        {
          "output_type": "stream",
          "name": "stdout",
          "text": [
            "M 0\n",
            "a 1\n",
            "c 2\n",
            "h 3\n",
            "i 4\n",
            "n 5\n",
            "e 6\n",
            "  7\n",
            "l 8\n",
            "e 9\n",
            "a 10\n",
            "r 11\n",
            "n 12\n",
            "i 13\n",
            "n 14\n",
            "g 15\n"
          ]
        }
      ]
    },
    {
      "cell_type": "code",
      "source": [
        "my_sub = \"Machine learning\"\n",
        "for i in range(-1, -(len(my_sub)+1), -1):\n",
        "  print(my_sub[i], i)"
      ],
      "metadata": {
        "colab": {
          "base_uri": "https://localhost:8080/"
        },
        "id": "--8V8YVk790j",
        "outputId": "4be9a1ee-09cc-4541-c560-f97add89a24b"
      },
      "execution_count": null,
      "outputs": [
        {
          "output_type": "stream",
          "name": "stdout",
          "text": [
            "g -1\n",
            "n -2\n",
            "i -3\n",
            "n -4\n",
            "r -5\n",
            "a -6\n",
            "e -7\n",
            "l -8\n",
            "  -9\n",
            "e -10\n",
            "n -11\n",
            "i -12\n",
            "h -13\n",
            "c -14\n",
            "a -15\n",
            "M -16\n"
          ]
        }
      ]
    },
    {
      "cell_type": "code",
      "source": [
        "#while loop--this loop execute upto condition is true"
      ],
      "metadata": {
        "id": "voXJsPiRUjyO"
      },
      "execution_count": null,
      "outputs": []
    },
    {
      "cell_type": "code",
      "source": [
        "i = 0 #initialization\n",
        "while i<5:#condition\n",
        "  print(i)\n",
        "  i+=1 #increment  i = i+1\n",
        "print(i)"
      ],
      "metadata": {
        "colab": {
          "base_uri": "https://localhost:8080/"
        },
        "id": "IqtroLZ2UtF1",
        "outputId": "f918eca1-38f4-4bcb-9d62-8d875eda317d"
      },
      "execution_count": null,
      "outputs": [
        {
          "output_type": "stream",
          "name": "stdout",
          "text": [
            "0\n",
            "1\n",
            "2\n",
            "3\n",
            "4\n",
            "5\n"
          ]
        }
      ]
    },
    {
      "cell_type": "code",
      "source": [
        "#loops control statement\n",
        "i = 0\n",
        "while i<5:\n",
        "  if i == 3:\n",
        "    break  # break your loop\n",
        "    print(i)\n",
        "  else:\n",
        "    print(i)\n",
        "  i+=1"
      ],
      "metadata": {
        "colab": {
          "base_uri": "https://localhost:8080/"
        },
        "id": "UQnl4VkbWiU6",
        "outputId": "c774597f-96a1-4ae0-a567-d38f6e24cbe8"
      },
      "execution_count": null,
      "outputs": [
        {
          "output_type": "stream",
          "name": "stdout",
          "text": [
            "0\n",
            "1\n",
            "2\n"
          ]
        }
      ]
    },
    {
      "cell_type": "code",
      "source": [
        "i = 0\n",
        "while i<5:\n",
        "  i+=1\n",
        "  if i == 3:\n",
        "    continue  # skip the current iteration\n",
        "    print(i)\n",
        "  else:\n",
        "    print(i)\n"
      ],
      "metadata": {
        "colab": {
          "base_uri": "https://localhost:8080/"
        },
        "id": "TECkctolXx5m",
        "outputId": "a63b2a3c-7b9d-4e5e-f495-510aaace12ea"
      },
      "execution_count": null,
      "outputs": [
        {
          "output_type": "stream",
          "name": "stdout",
          "text": [
            "1\n",
            "2\n",
            "4\n",
            "5\n"
          ]
        }
      ]
    },
    {
      "cell_type": "code",
      "source": [
        "i = 0\n",
        "while i<5:\n",
        "  i+=1\n",
        "  if i == 3:\n",
        "    pass  # skip the current iteration\n",
        "    print(i)\n",
        "  else:\n",
        "    print(i)"
      ],
      "metadata": {
        "colab": {
          "base_uri": "https://localhost:8080/"
        },
        "id": "Psc5uWpzY8w6",
        "outputId": "3c80f8a3-4b2d-4908-e87a-08fdb3229a7e"
      },
      "execution_count": null,
      "outputs": [
        {
          "output_type": "stream",
          "name": "stdout",
          "text": [
            "1\n",
            "2\n",
            "3\n",
            "4\n",
            "5\n"
          ]
        }
      ]
    },
    {
      "cell_type": "code",
      "source": [
        "#user defined function\n",
        "def add():\n",
        "  a = int(input(\"Enter first number: \"))\n",
        "  b = int(input(\"Enter second number: \"))\n",
        "  c = a+b\n",
        "  return c\n"
      ],
      "metadata": {
        "id": "a6wbxkcQZi1c"
      },
      "execution_count": null,
      "outputs": []
    },
    {
      "cell_type": "code",
      "source": [
        "print(add())"
      ],
      "metadata": {
        "colab": {
          "base_uri": "https://localhost:8080/"
        },
        "id": "Q2JX5wUvaCUb",
        "outputId": "cfed8c95-1b0f-4e0d-c2a7-68b869ff4183"
      },
      "execution_count": null,
      "outputs": [
        {
          "output_type": "stream",
          "name": "stdout",
          "text": [
            "Enter first number: 10\n",
            "Enter second number: 20\n",
            "30\n"
          ]
        }
      ]
    },
    {
      "cell_type": "code",
      "source": [
        "def add():\n",
        "  a = int(input(\"Enter first number: \"))\n",
        "  b = int(input(\"Enter second number: \"))\n",
        "  c = a+b\n",
        "  print(c)\n",
        "  return c\n"
      ],
      "metadata": {
        "id": "JyKZPhQNaFFr"
      },
      "execution_count": null,
      "outputs": []
    },
    {
      "cell_type": "code",
      "source": [
        "print(add())"
      ],
      "metadata": {
        "colab": {
          "base_uri": "https://localhost:8080/"
        },
        "id": "NMnC_KVnbnTA",
        "outputId": "48688bb3-fcf9-4cad-8974-a0c56288ac03"
      },
      "execution_count": null,
      "outputs": [
        {
          "output_type": "stream",
          "name": "stdout",
          "text": [
            "Enter first number: 6\n",
            "Enter second number: 7\n",
            "13\n",
            "13\n"
          ]
        }
      ]
    },
    {
      "cell_type": "code",
      "source": [
        "#positional argument\n",
        "def add(a, b):\n",
        "  c = a+b\n",
        "  return c"
      ],
      "metadata": {
        "id": "spRffWrEbo5Y"
      },
      "execution_count": null,
      "outputs": []
    },
    {
      "cell_type": "code",
      "source": [
        "print(add(10, 20))"
      ],
      "metadata": {
        "colab": {
          "base_uri": "https://localhost:8080/"
        },
        "id": "l9oEidl5Q7Xy",
        "outputId": "2131994d-0fd4-4630-da1c-efa42950c2d1"
      },
      "execution_count": null,
      "outputs": [
        {
          "output_type": "stream",
          "name": "stdout",
          "text": [
            "30\n"
          ]
        }
      ]
    },
    {
      "cell_type": "code",
      "source": [
        "#default argument\n",
        "def add(a = 20, b = 30):\n",
        "  c = a+b\n",
        "  return c"
      ],
      "metadata": {
        "id": "aSa7oJsmROjN"
      },
      "execution_count": null,
      "outputs": []
    },
    {
      "cell_type": "code",
      "source": [
        "print(add())"
      ],
      "metadata": {
        "colab": {
          "base_uri": "https://localhost:8080/"
        },
        "id": "h2LjFTaOR3Xc",
        "outputId": "5d5c3e79-4de6-4fb3-f821-19a9d9da8c19"
      },
      "execution_count": null,
      "outputs": [
        {
          "output_type": "stream",
          "name": "stdout",
          "text": [
            "50\n"
          ]
        }
      ]
    },
    {
      "cell_type": "code",
      "source": [
        "print(add(50))"
      ],
      "metadata": {
        "colab": {
          "base_uri": "https://localhost:8080/"
        },
        "id": "3xuTMKgkR5Mb",
        "outputId": "ce031267-19b0-4e3f-88c0-7cbaa9bf5b45"
      },
      "execution_count": null,
      "outputs": [
        {
          "output_type": "stream",
          "name": "stdout",
          "text": [
            "80\n"
          ]
        }
      ]
    },
    {
      "cell_type": "code",
      "source": [
        "#keyword arguments\n",
        "def interest(p, r, t):\n",
        "  i = (p*r*t)/100\n",
        "  return i"
      ],
      "metadata": {
        "id": "k5-NdasmSL6-"
      },
      "execution_count": null,
      "outputs": []
    },
    {
      "cell_type": "code",
      "source": [
        "print(interest(t = 2, p = 100, r = 10))"
      ],
      "metadata": {
        "colab": {
          "base_uri": "https://localhost:8080/"
        },
        "id": "XyDopWNJSlDq",
        "outputId": "975173c1-a8b1-4c21-f26f-bc7d82b9004f"
      },
      "execution_count": null,
      "outputs": [
        {
          "output_type": "stream",
          "name": "stdout",
          "text": [
            "20.0\n"
          ]
        }
      ]
    },
    {
      "cell_type": "code",
      "source": [
        "#mixed arguments(positional, keyword)"
      ],
      "metadata": {
        "id": "UCieAdysS_KZ"
      },
      "execution_count": null,
      "outputs": []
    },
    {
      "cell_type": "code",
      "source": [
        "interest(100, r= 10, t = 2)"
      ],
      "metadata": {
        "colab": {
          "base_uri": "https://localhost:8080/"
        },
        "id": "KnfBlvx7TIYm",
        "outputId": "37da8420-a5eb-4470-fe31-75ef9c28825c"
      },
      "execution_count": null,
      "outputs": [
        {
          "output_type": "execute_result",
          "data": {
            "text/plain": [
              "20.0"
            ]
          },
          "metadata": {},
          "execution_count": 10
        }
      ]
    },
    {
      "cell_type": "code",
      "source": [
        "#variable length argument\n",
        "#non-keyword variable length aruments\n",
        "def test(*args):\n",
        "  print(args)\n",
        "  print(len(args))\n",
        "  print(type(args))"
      ],
      "metadata": {
        "id": "sSNIfkIdUxg4"
      },
      "execution_count": null,
      "outputs": []
    },
    {
      "cell_type": "code",
      "source": [
        "test(7, 5, 4, 3, 2)"
      ],
      "metadata": {
        "colab": {
          "base_uri": "https://localhost:8080/"
        },
        "id": "Iw24qm95VNVs",
        "outputId": "4fa606a7-75fb-481e-9f9b-36b9f35a2f8a"
      },
      "execution_count": null,
      "outputs": [
        {
          "output_type": "stream",
          "name": "stdout",
          "text": [
            "(7, 5, 4, 3, 2)\n",
            "5\n",
            "<class 'tuple'>\n"
          ]
        }
      ]
    },
    {
      "cell_type": "code",
      "source": [
        "def addition(*args):\n",
        "  sum = 0\n",
        "  for i in args:\n",
        "    sum+=i\n",
        "  return sum"
      ],
      "metadata": {
        "id": "75o7GWbeWDQk"
      },
      "execution_count": null,
      "outputs": []
    },
    {
      "cell_type": "code",
      "source": [
        "addition(3, 4, 5, 9)"
      ],
      "metadata": {
        "colab": {
          "base_uri": "https://localhost:8080/"
        },
        "id": "Hsw1t888WibH",
        "outputId": "99699648-b6b0-4d94-8059-afeba3eac521"
      },
      "execution_count": null,
      "outputs": [
        {
          "output_type": "execute_result",
          "data": {
            "text/plain": [
              "21"
            ]
          },
          "metadata": {},
          "execution_count": 15
        }
      ]
    },
    {
      "cell_type": "code",
      "source": [
        "#keyword variable length arguments\n",
        "def test(**kwargs):\n",
        "  print(kwargs)\n",
        "  print(type(kwargs))\n",
        "  print(len(kwargs))"
      ],
      "metadata": {
        "id": "5W6W3yZVW9HH"
      },
      "execution_count": null,
      "outputs": []
    },
    {
      "cell_type": "code",
      "source": [
        "test(a = 10, b = 20, c = 30)"
      ],
      "metadata": {
        "colab": {
          "base_uri": "https://localhost:8080/"
        },
        "id": "ptZFu6N4XRfj",
        "outputId": "fd1ee6ca-8ab0-460c-e69c-f40b5f7d4548"
      },
      "execution_count": null,
      "outputs": [
        {
          "output_type": "stream",
          "name": "stdout",
          "text": [
            "{'a': 10, 'b': 20, 'c': 30}\n",
            "<class 'dict'>\n",
            "3\n"
          ]
        }
      ]
    },
    {
      "cell_type": "code",
      "source": [
        "def pass_student(**kwargs):\n",
        "  pass_student_list = []\n",
        "  for key, value in kwargs.items():\n",
        "    if value >=40:\n",
        "      pass_student_list.append(key)\n",
        "  return pass_student_list"
      ],
      "metadata": {
        "id": "c5MKCVFBXpAw"
      },
      "execution_count": null,
      "outputs": []
    },
    {
      "cell_type": "code",
      "source": [
        "pass_student(A = 60, B= 30, C = 80, D = 39)"
      ],
      "metadata": {
        "colab": {
          "base_uri": "https://localhost:8080/"
        },
        "id": "V-VCqG9kYvOK",
        "outputId": "fe416987-ff38-4f9b-cd74-781a2c945745"
      },
      "execution_count": null,
      "outputs": [
        {
          "output_type": "execute_result",
          "data": {
            "text/plain": [
              "['A', 'C']"
            ]
          },
          "metadata": {},
          "execution_count": 20
        }
      ]
    },
    {
      "cell_type": "code",
      "source": [
        "import numpy as np"
      ],
      "metadata": {
        "id": "lnDh6u9MRxsf"
      },
      "execution_count": null,
      "outputs": []
    },
    {
      "cell_type": "code",
      "source": [
        "oned_array = np.array([3, 4, 5, 6])\n",
        "print(oned_array)"
      ],
      "metadata": {
        "colab": {
          "base_uri": "https://localhost:8080/"
        },
        "id": "cRkm-LdcSOgK",
        "outputId": "d586c924-5847-46f3-8f43-85b4decbfecb"
      },
      "execution_count": null,
      "outputs": [
        {
          "output_type": "stream",
          "name": "stdout",
          "text": [
            "[3 4 5 6]\n"
          ]
        }
      ]
    },
    {
      "cell_type": "code",
      "source": [
        "twod_array = np.array([[3, 5, 6],\n",
        "                       [9, 8, 1]])\n",
        "print(twod_array)"
      ],
      "metadata": {
        "colab": {
          "base_uri": "https://localhost:8080/"
        },
        "id": "Q_kmGk3jSaM6",
        "outputId": "4989ece6-27ba-4985-a448-d859e5efbe5c"
      },
      "execution_count": null,
      "outputs": [
        {
          "output_type": "stream",
          "name": "stdout",
          "text": [
            "[[3 5 6]\n",
            " [9 8 1]]\n"
          ]
        }
      ]
    },
    {
      "cell_type": "code",
      "source": [
        "#array inspection\n",
        "#shape--- find the shape of array\n",
        "oned_array = np.array([3, 4, 5, 6])\n",
        "print(oned_array)\n",
        "oned_array.shape"
      ],
      "metadata": {
        "colab": {
          "base_uri": "https://localhost:8080/"
        },
        "id": "HPYV-gtlUpuQ",
        "outputId": "658142ae-ca41-4d6b-bc45-f6f21b8d80a1"
      },
      "execution_count": null,
      "outputs": [
        {
          "output_type": "stream",
          "name": "stdout",
          "text": [
            "[3 4 5 6]\n"
          ]
        },
        {
          "output_type": "execute_result",
          "data": {
            "text/plain": [
              "(4,)"
            ]
          },
          "metadata": {},
          "execution_count": 5
        }
      ]
    },
    {
      "cell_type": "code",
      "source": [
        "twod_array = np.array([[3, 5, 6],\n",
        "                       [9, 8, 1]])\n",
        "print(twod_array)\n",
        "twod_array.shape"
      ],
      "metadata": {
        "colab": {
          "base_uri": "https://localhost:8080/"
        },
        "id": "ipVfo60-U3Sx",
        "outputId": "0f6b80a9-459d-4ad7-8643-deddb5866cad"
      },
      "execution_count": null,
      "outputs": [
        {
          "output_type": "stream",
          "name": "stdout",
          "text": [
            "[[3 5 6]\n",
            " [9 8 1]]\n"
          ]
        },
        {
          "output_type": "execute_result",
          "data": {
            "text/plain": [
              "(2, 3)"
            ]
          },
          "metadata": {},
          "execution_count": 6
        }
      ]
    },
    {
      "cell_type": "code",
      "source": [
        "threed_array = np.array([[[9, 8, 7],[7, 5, 4]],\n",
        "                        [[9, 3, 2],[9, 4, 3]]])\n",
        "print(threed_array)\n",
        "threed_array.shape"
      ],
      "metadata": {
        "colab": {
          "base_uri": "https://localhost:8080/"
        },
        "id": "UQyfuV5wVmhQ",
        "outputId": "48198dea-868d-41d2-aefa-f35ad471b04f"
      },
      "execution_count": null,
      "outputs": [
        {
          "output_type": "stream",
          "name": "stdout",
          "text": [
            "[[[9 8 7]\n",
            "  [7 5 4]]\n",
            "\n",
            " [[9 3 2]\n",
            "  [9 4 3]]]\n"
          ]
        },
        {
          "output_type": "execute_result",
          "data": {
            "text/plain": [
              "(2, 2, 3)"
            ]
          },
          "metadata": {},
          "execution_count": 7
        }
      ]
    },
    {
      "cell_type": "code",
      "source": [
        "#ndim-- find the dimension of array\n",
        "twod_array = np.array([[3, 5, 6],\n",
        "                       [9, 8, 1]])\n",
        "print(twod_array)\n",
        "twod_array.ndim"
      ],
      "metadata": {
        "colab": {
          "base_uri": "https://localhost:8080/"
        },
        "id": "lcSR7SeNW2zs",
        "outputId": "3c43a8f5-dbb7-49be-e2ff-962ce0ea6f7d"
      },
      "execution_count": null,
      "outputs": [
        {
          "output_type": "stream",
          "name": "stdout",
          "text": [
            "[[3 5 6]\n",
            " [9 8 1]]\n"
          ]
        },
        {
          "output_type": "execute_result",
          "data": {
            "text/plain": [
              "2"
            ]
          },
          "metadata": {},
          "execution_count": 8
        }
      ]
    },
    {
      "cell_type": "code",
      "source": [
        "#dtype-- find the data type\n",
        "twod_array.dtype"
      ],
      "metadata": {
        "colab": {
          "base_uri": "https://localhost:8080/"
        },
        "id": "HC6-i0IJXZPT",
        "outputId": "e4f2aa08-3411-4538-ed2a-710512a00c19"
      },
      "execution_count": null,
      "outputs": [
        {
          "output_type": "execute_result",
          "data": {
            "text/plain": [
              "dtype('int64')"
            ]
          },
          "metadata": {},
          "execution_count": 9
        }
      ]
    },
    {
      "cell_type": "code",
      "source": [
        "#size -- total number of item in array\n",
        "twod_array = np.array([[3, 5, 6],\n",
        "                       [9, 8, 1]])\n",
        "print(twod_array)\n",
        "twod_array.size"
      ],
      "metadata": {
        "colab": {
          "base_uri": "https://localhost:8080/"
        },
        "id": "E1pNOO5CXfpB",
        "outputId": "48c33350-163a-4df4-cf1f-5c6741fd0fcf"
      },
      "execution_count": null,
      "outputs": [
        {
          "output_type": "stream",
          "name": "stdout",
          "text": [
            "[[3 5 6]\n",
            " [9 8 1]]\n"
          ]
        },
        {
          "output_type": "execute_result",
          "data": {
            "text/plain": [
              "6"
            ]
          },
          "metadata": {},
          "execution_count": 10
        }
      ]
    },
    {
      "cell_type": "code",
      "source": [
        "import numpy as np\n",
        "twod_array = np.array([[3, 5, 6],\n",
        "                       [9, 8, 1]])\n",
        "print(twod_array)\n",
        "twod_array.astype(float)"
      ],
      "metadata": {
        "id": "hGPAoNc7Xzrv",
        "colab": {
          "base_uri": "https://localhost:8080/"
        },
        "outputId": "9ef5aabf-40a3-4188-9e3e-5e140f647b82"
      },
      "execution_count": null,
      "outputs": [
        {
          "output_type": "stream",
          "name": "stdout",
          "text": [
            "[[3 5 6]\n",
            " [9 8 1]]\n"
          ]
        },
        {
          "output_type": "execute_result",
          "data": {
            "text/plain": [
              "array([[3., 5., 6.],\n",
              "       [9., 8., 1.]])"
            ]
          },
          "metadata": {},
          "execution_count": 2
        }
      ]
    },
    {
      "cell_type": "code",
      "source": [
        "#zeros array\n",
        "zero_array = np.zeros((3, 4), dtype = int)\n",
        "print(zero_array)"
      ],
      "metadata": {
        "colab": {
          "base_uri": "https://localhost:8080/"
        },
        "id": "GzI0QchLZBDZ",
        "outputId": "337c3e3d-145c-47e8-d7cf-8ed43eb4b161"
      },
      "execution_count": null,
      "outputs": [
        {
          "output_type": "stream",
          "name": "stdout",
          "text": [
            "[[0 0 0 0]\n",
            " [0 0 0 0]\n",
            " [0 0 0 0]]\n"
          ]
        }
      ]
    },
    {
      "cell_type": "code",
      "source": [
        "ones_array = np.ones((3, 4), dtype = int )\n",
        "print(ones_array)"
      ],
      "metadata": {
        "colab": {
          "base_uri": "https://localhost:8080/"
        },
        "id": "Y-R1u4-DZLbd",
        "outputId": "e0496d12-d270-48b1-bb3d-f7d75daf03a7"
      },
      "execution_count": null,
      "outputs": [
        {
          "output_type": "stream",
          "name": "stdout",
          "text": [
            "[[1 1 1 1]\n",
            " [1 1 1 1]\n",
            " [1 1 1 1]]\n"
          ]
        }
      ]
    },
    {
      "cell_type": "code",
      "source": [
        "print(ones_array*99)"
      ],
      "metadata": {
        "colab": {
          "base_uri": "https://localhost:8080/"
        },
        "id": "jFenmF9maoJ8",
        "outputId": "89ded839-2c23-4582-d245-586288c4f914"
      },
      "execution_count": null,
      "outputs": [
        {
          "output_type": "stream",
          "name": "stdout",
          "text": [
            "[[99 99 99 99]\n",
            " [99 99 99 99]\n",
            " [99 99 99 99]]\n"
          ]
        }
      ]
    },
    {
      "cell_type": "code",
      "source": [
        "my_array = np.full((3, 3), 100)\n",
        "print(my_array)"
      ],
      "metadata": {
        "colab": {
          "base_uri": "https://localhost:8080/"
        },
        "id": "0LIn468lauY5",
        "outputId": "ca1fc208-c189-4dbb-b8e7-e3328fb0295b"
      },
      "execution_count": null,
      "outputs": [
        {
          "output_type": "stream",
          "name": "stdout",
          "text": [
            "[[100 100 100]\n",
            " [100 100 100]\n",
            " [100 100 100]]\n"
          ]
        }
      ]
    },
    {
      "cell_type": "code",
      "source": [
        "random_array = np.random.random((3, 4))\n",
        "print(random_array)"
      ],
      "metadata": {
        "colab": {
          "base_uri": "https://localhost:8080/"
        },
        "id": "rFkEx7yYbetj",
        "outputId": "c86169e3-10c8-4708-e3bf-3d72ea4ab068"
      },
      "execution_count": null,
      "outputs": [
        {
          "output_type": "stream",
          "name": "stdout",
          "text": [
            "[[0.41536475 0.96289915 0.3639109  0.99098807]\n",
            " [0.555464   0.99069066 0.89356646 0.12343815]\n",
            " [0.34538989 0.03462779 0.77651513 0.67722767]]\n"
          ]
        }
      ]
    },
    {
      "cell_type": "code",
      "source": [
        "random_intarray = np.random.randint(2, 10, (3, 4))\n",
        "print(random_intarray)"
      ],
      "metadata": {
        "colab": {
          "base_uri": "https://localhost:8080/"
        },
        "id": "h9kBRw5GcDOW",
        "outputId": "0f5b9820-a0a8-4b0b-b3d6-6193ce217ad0"
      },
      "execution_count": null,
      "outputs": [
        {
          "output_type": "stream",
          "name": "stdout",
          "text": [
            "[[6 9 8 4]\n",
            " [4 6 5 7]\n",
            " [7 9 2 6]]\n"
          ]
        }
      ]
    },
    {
      "cell_type": "code",
      "source": [
        "arange_array = np.arange(2, 20, 2, dtype = float)\n",
        "print(arange_array)"
      ],
      "metadata": {
        "colab": {
          "base_uri": "https://localhost:8080/"
        },
        "id": "WbsEdcHLc4J5",
        "outputId": "883e8f59-fc67-4fb7-feca-bcc2361dded9"
      },
      "execution_count": null,
      "outputs": [
        {
          "output_type": "stream",
          "name": "stdout",
          "text": [
            "[ 2.  4.  6.  8. 10. 12. 14. 16. 18.]\n"
          ]
        }
      ]
    },
    {
      "cell_type": "code",
      "source": [
        "a = np.random.randint(1, 6, (2, 2))\n",
        "print(a)\n",
        "b = np.random.randint(1, 6, (2, 2))\n",
        "print(b)\n",
        "print(a+b)"
      ],
      "metadata": {
        "colab": {
          "base_uri": "https://localhost:8080/"
        },
        "id": "kh39bzb2eCxR",
        "outputId": "f7a2d91a-ec1a-438c-f9de-9e97186f5627"
      },
      "execution_count": null,
      "outputs": [
        {
          "output_type": "stream",
          "name": "stdout",
          "text": [
            "[[3 1]\n",
            " [5 1]]\n",
            "[[3 2]\n",
            " [5 4]]\n",
            "[[ 6  3]\n",
            " [10  5]]\n"
          ]
        }
      ]
    },
    {
      "cell_type": "code",
      "source": [
        "#(3, 4) and(1, 1)\n",
        "a = np.random.randint(1, 6,(3, 4))\n",
        "print(a)\n",
        "b = np.random.randint(1, 6, (1, 1))\n",
        "print(b)\n",
        "print(a+b)"
      ],
      "metadata": {
        "colab": {
          "base_uri": "https://localhost:8080/"
        },
        "id": "y3n45ZjjeUwA",
        "outputId": "da6d2f56-3377-49ad-8f8f-69f1ce1dcdc9"
      },
      "execution_count": null,
      "outputs": [
        {
          "output_type": "stream",
          "name": "stdout",
          "text": [
            "[[3 4 4 4]\n",
            " [4 5 4 2]\n",
            " [1 4 4 5]]\n",
            "[[1]]\n",
            "[[4 5 5 5]\n",
            " [5 6 5 3]\n",
            " [2 5 5 6]]\n"
          ]
        }
      ]
    },
    {
      "cell_type": "code",
      "source": [
        "#(1,4) and(4,1)\n",
        "#(1, 5) and(5, 1)\n",
        "a = np.random.randint(1, 6, (1, 4))\n",
        "print(a)\n",
        "b = np.random.randint(1, 6, (4, 1))\n",
        "print(b)\n",
        "print(a+b)"
      ],
      "metadata": {
        "colab": {
          "base_uri": "https://localhost:8080/"
        },
        "id": "YBV9gN8XfZ-L",
        "outputId": "2900cf53-587c-4d65-9c18-5df2243aa53c"
      },
      "execution_count": null,
      "outputs": [
        {
          "output_type": "stream",
          "name": "stdout",
          "text": [
            "[[1 2 1 2]]\n",
            "[[1]\n",
            " [5]\n",
            " [1]\n",
            " [4]]\n",
            "[[2 3 2 3]\n",
            " [6 7 6 7]\n",
            " [2 3 2 3]\n",
            " [5 6 5 6]]\n"
          ]
        }
      ]
    },
    {
      "cell_type": "code",
      "source": [
        "a = np.random.randint(1, 6, (2, 4))\n",
        "print(a)\n",
        "b = np.random.randint(1, 6, (4, 2))\n",
        "print(b)\n",
        "print(a+b)"
      ],
      "metadata": {
        "colab": {
          "base_uri": "https://localhost:8080/",
          "height": 286
        },
        "id": "mbZN-HLNgVFy",
        "outputId": "d23c80c4-9c06-4ef9-a24d-8e85866ace40"
      },
      "execution_count": null,
      "outputs": [
        {
          "output_type": "stream",
          "name": "stdout",
          "text": [
            "[[3 4 2 3]\n",
            " [1 5 1 1]]\n",
            "[[5 4]\n",
            " [1 2]\n",
            " [5 1]\n",
            " [3 5]]\n"
          ]
        },
        {
          "output_type": "error",
          "ename": "ValueError",
          "evalue": "operands could not be broadcast together with shapes (2,4) (4,2) ",
          "traceback": [
            "\u001b[0;31m---------------------------------------------------------------------------\u001b[0m",
            "\u001b[0;31mValueError\u001b[0m                                Traceback (most recent call last)",
            "\u001b[0;32m<ipython-input-20-63d1ce26f605>\u001b[0m in \u001b[0;36m<cell line: 5>\u001b[0;34m()\u001b[0m\n\u001b[1;32m      3\u001b[0m \u001b[0mb\u001b[0m \u001b[0;34m=\u001b[0m \u001b[0mnp\u001b[0m\u001b[0;34m.\u001b[0m\u001b[0mrandom\u001b[0m\u001b[0;34m.\u001b[0m\u001b[0mrandint\u001b[0m\u001b[0;34m(\u001b[0m\u001b[0;36m1\u001b[0m\u001b[0;34m,\u001b[0m \u001b[0;36m6\u001b[0m\u001b[0;34m,\u001b[0m \u001b[0;34m(\u001b[0m\u001b[0;36m4\u001b[0m\u001b[0;34m,\u001b[0m \u001b[0;36m2\u001b[0m\u001b[0;34m)\u001b[0m\u001b[0;34m)\u001b[0m\u001b[0;34m\u001b[0m\u001b[0;34m\u001b[0m\u001b[0m\n\u001b[1;32m      4\u001b[0m \u001b[0mprint\u001b[0m\u001b[0;34m(\u001b[0m\u001b[0mb\u001b[0m\u001b[0;34m)\u001b[0m\u001b[0;34m\u001b[0m\u001b[0;34m\u001b[0m\u001b[0m\n\u001b[0;32m----> 5\u001b[0;31m \u001b[0mprint\u001b[0m\u001b[0;34m(\u001b[0m\u001b[0ma\u001b[0m\u001b[0;34m+\u001b[0m\u001b[0mb\u001b[0m\u001b[0;34m)\u001b[0m\u001b[0;34m\u001b[0m\u001b[0;34m\u001b[0m\u001b[0m\n\u001b[0m",
            "\u001b[0;31mValueError\u001b[0m: operands could not be broadcast together with shapes (2,4) (4,2) "
          ]
        }
      ]
    },
    {
      "cell_type": "code",
      "source": [
        "#(1,4)\n",
        "#(3, 4)\n",
        "a = np.random.randint(1, 6, (1, 4))\n",
        "print(a)\n",
        "b = np.random.randint(1, 6, (3, 4))\n",
        "print(b)\n",
        "print(a+b)"
      ],
      "metadata": {
        "colab": {
          "base_uri": "https://localhost:8080/"
        },
        "id": "aSQyjiHGhOU3",
        "outputId": "bc020a58-6970-46fb-b65d-110ddf0ce215"
      },
      "execution_count": null,
      "outputs": [
        {
          "output_type": "stream",
          "name": "stdout",
          "text": [
            "[[4 3 1 2]]\n",
            "[[4 4 5 5]\n",
            " [3 3 2 2]\n",
            " [5 2 2 4]]\n",
            "[[8 7 6 7]\n",
            " [7 6 3 4]\n",
            " [9 5 3 6]]\n"
          ]
        }
      ]
    },
    {
      "cell_type": "code",
      "source": [],
      "metadata": {
        "id": "mcZjIA8Xh4_Z"
      },
      "execution_count": null,
      "outputs": []
    }
  ]
}